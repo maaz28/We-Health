{
  "nbformat": 4,
  "nbformat_minor": 0,
  "metadata": {
    "colab": {
      "name": "final-dog-app.ipynb",
      "provenance": [],
      "toc_visible": true,
      "machine_shape": "hm",
      "include_colab_link": true
    },
    "kernelspec": {
      "name": "python3",
      "display_name": "Python 3"
    },
    "accelerator": "GPU"
  },
  "cells": [
    {
      "cell_type": "markdown",
      "metadata": {
        "id": "view-in-github",
        "colab_type": "text"
      },
      "source": [
        "<a href=\"https://colab.research.google.com/github/maaz28/We-Health/blob/master/final_dog_app.ipynb\" target=\"_parent\"><img src=\"https://colab.research.google.com/assets/colab-badge.svg\" alt=\"Open In Colab\"/></a>"
      ]
    },
    {
      "cell_type": "code",
      "metadata": {
        "id": "NyiZ7pqKyroI",
        "colab_type": "code",
        "colab": {}
      },
      "source": [
        "# !git clone https://github.com/maaz28/dog_app.git"
      ],
      "execution_count": 0,
      "outputs": []
    },
    {
      "cell_type": "code",
      "metadata": {
        "id": "qVaQgBbHbMid",
        "colab_type": "code",
        "colab": {}
      },
      "source": [
        "# !wget https://s3-us-west-1.amazonaws.com/udacity-aind/dog-project/DogVGG16Data.npz"
      ],
      "execution_count": 0,
      "outputs": []
    },
    {
      "cell_type": "markdown",
      "metadata": {
        "id": "yllc4uuKqbnW",
        "colab_type": "text"
      },
      "source": [
        "Import Dog Dataset"
      ]
    },
    {
      "cell_type": "code",
      "metadata": {
        "id": "_17K_-xXqL-o",
        "colab_type": "code",
        "outputId": "60fef89d-40d0-42e3-fafc-102979c63cc7",
        "colab": {
          "base_uri": "https://localhost:8080/",
          "height": 119
        }
      },
      "source": [
        "from sklearn.datasets import load_files       \n",
        "from keras.utils import np_utils\n",
        "import numpy as np\n",
        "from glob import glob\n",
        "\n",
        "# define function to load train, test, and validation datasets\n",
        "def load_dataset(path):\n",
        "    data = load_files(path)\n",
        "    dog_files = np.array(data['filenames'])\n",
        "    dog_targets = np_utils.to_categorical(np.array(data['target']), 133)\n",
        "    return dog_files, dog_targets\n",
        "\n",
        "# load train, test, and validation datasets\n",
        "train_files, train_targets = load_dataset('/content/dog_app/dogImages/train')\n",
        "valid_files, valid_targets = load_dataset('/content/dog_app/dogImages/valid')\n",
        "test_files, test_targets = load_dataset('/content/dog_app/dogImages/test')\n",
        "\n",
        "# load list of dog names\n",
        "dog_names = [item[20:-1] for item in sorted(glob(\"/content/dog_app/dogImages/train/*/\"))]\n",
        "\n",
        "# print statistics about the dataset\n",
        "print('There are %d total dog categories.' % len(dog_names))\n",
        "print('There are %s total dog images.\\n' % len(np.hstack([train_files, valid_files, test_files])))\n",
        "print('There are %d training dog images.' % len(train_files))\n",
        "print('There are %d validation dog images.' % len(valid_files))\n",
        "print('There are %d test dog images.'% len(test_files))"
      ],
      "execution_count": 0,
      "outputs": [
        {
          "output_type": "stream",
          "text": [
            "There are 133 total dog categories.\n",
            "There are 8351 total dog images.\n",
            "\n",
            "There are 6680 training dog images.\n",
            "There are 835 validation dog images.\n",
            "There are 836 test dog images.\n"
          ],
          "name": "stdout"
        }
      ]
    },
    {
      "cell_type": "code",
      "metadata": {
        "id": "-ksgv38R1BMg",
        "colab_type": "code",
        "colab": {}
      },
      "source": [
        "! test code"
      ],
      "execution_count": 0,
      "outputs": []
    },
    {
      "cell_type": "markdown",
      "metadata": {
        "id": "-4wmA6SCqxUZ",
        "colab_type": "text"
      },
      "source": [
        "### Import Human Dataset"
      ]
    },
    {
      "cell_type": "code",
      "metadata": {
        "id": "I9RusKgjTQqZ",
        "colab_type": "code",
        "outputId": "4940bbe3-ef99-4762-b157-0d599e723086",
        "colab": {
          "base_uri": "https://localhost:8080/",
          "height": 34
        }
      },
      "source": [
        "import random\n",
        "random.seed(8675309)\n",
        "\n",
        "# load filenames in shuffled human dataset\n",
        "human_files = np.array(glob(\"/content/dog_app/lfw/*/*\"))\n",
        "random.shuffle(human_files)\n",
        "\n",
        "# print statistics about the dataset\n",
        "print('There are %d total human images.' % len(human_files))"
      ],
      "execution_count": 0,
      "outputs": [
        {
          "output_type": "stream",
          "text": [
            "There are 13233 total human images.\n"
          ],
          "name": "stdout"
        }
      ]
    },
    {
      "cell_type": "markdown",
      "metadata": {
        "id": "yTKhWI3zsjfV",
        "colab_type": "text"
      },
      "source": [
        "## Step 1: Detect Humans"
      ]
    },
    {
      "cell_type": "code",
      "metadata": {
        "id": "ZzBpmmaVsiK9",
        "colab_type": "code",
        "outputId": "56a3b873-74b8-4051-f69d-f18c3ef0e7f2",
        "colab": {
          "base_uri": "https://localhost:8080/",
          "height": 286
        }
      },
      "source": [
        "import cv2                \n",
        "import matplotlib.pyplot as plt                        \n",
        "%matplotlib inline                               \n",
        "\n",
        "# extract pre-trained face detector\n",
        "face_cascade = cv2.CascadeClassifier('/content/dog_app/haarcascades/haarcascade_frontalface_alt.xml')\n",
        "\n",
        "# load color (BGR) image\n",
        "img = cv2.imread(human_files[0])\n",
        "# convert BGR image to grayscale\n",
        "gray = cv2.cvtColor(img, cv2.COLOR_BGR2GRAY)\n",
        "\n",
        "# find faces in image\n",
        "faces = face_cascade.detectMultiScale(gray)\n",
        "\n",
        "# print number of faces detected in the image\n",
        "print('Number of faces detected:', len(faces))\n",
        "\n",
        "# get bounding box for each detected face\n",
        "for (x,y,w,h) in faces:\n",
        "    # add bounding box to color image\n",
        "    cv2.rectangle(img,(x,y),(x+w,y+h),(255,0,0),2)\n",
        "    \n",
        "# convert BGR image to RGB for plotting\n",
        "cv_rgb = cv2.cvtColor(img, cv2.COLOR_BGR2RGB)\n",
        "\n",
        "# display the image, along with bounding box\n",
        "plt.imshow(cv_rgb)\n",
        "plt.show()"
      ],
      "execution_count": 0,
      "outputs": [
        {
          "output_type": "stream",
          "text": [
            "Number of faces detected: 1\n"
          ],
          "name": "stdout"
        },
        {
          "output_type": "display_data",
          "data": {
            "image/png": "[encoded data removed]",
            "text/plain": [
              "<Figure size 432x288 with 1 Axes>"
            ]
          },
          "metadata": {
            "tags": [],
            "needs_background": "light"
          }
        }
      ]
    },
    {
      "cell_type": "markdown",
      "metadata": {
        "id": "kjSirfh9s7jZ",
        "colab_type": "text"
      },
      "source": [
        "### Write a Human Face Detector\n",
        "  "
      ]
    },
    {
      "cell_type": "code",
      "metadata": {
        "id": "70UUpL7ss2aC",
        "colab_type": "code",
        "colab": {}
      },
      "source": [
        "# returns \"True\" if face is detected in image stored at img_path\n",
        "def face_detector(img_path):\n",
        "    img = cv2.imread(img_path)\n",
        "    gray = cv2.cvtColor(img, cv2.COLOR_BGR2GRAY)\n",
        "    faces = face_cascade.detectMultiScale(gray)\n",
        "    return len(faces) > 0"
      ],
      "execution_count": 0,
      "outputs": []
    },
    {
      "cell_type": "markdown",
      "metadata": {
        "id": "SH9be0dktQuc",
        "colab_type": "text"
      },
      "source": [
        "(IMPLEMENTATION) Assess the Human Face Detector"
      ]
    },
    {
      "cell_type": "code",
      "metadata": {
        "id": "tnUHwFSItRdk",
        "colab_type": "code",
        "outputId": "3988c577-1c5a-4bf9-baf0-24505a1b0043",
        "colab": {
          "base_uri": "https://localhost:8080/",
          "height": 34
        }
      },
      "source": [
        "human_files_short = human_files[:100]\n",
        "dog_files_short = train_files[:100]\n",
        "# Do NOT modify the code above this line.\n",
        "percentage = 0\n",
        "\n",
        "for x in range(100):\n",
        "    if(face_detector(dog_files_short[x])):\n",
        "        percentage +=1\n",
        "        \n",
        "print(percentage)\n",
        "\n",
        "#     print(face_detector(human_files[x]))\n",
        "## TODO: Test the performance of the face_detector algorithm \n",
        "## on the images in human_files_short and dog_files_short."
      ],
      "execution_count": 0,
      "outputs": [
        {
          "output_type": "stream",
          "text": [
            "12\n"
          ],
          "name": "stdout"
        }
      ]
    },
    {
      "cell_type": "markdown",
      "metadata": {
        "id": "ErEJDk53NdSG",
        "colab_type": "text"
      },
      "source": [
        "## Step 2: Detect Dogs\n"
      ]
    },
    {
      "cell_type": "code",
      "metadata": {
        "id": "3fnMj97SODGv",
        "colab_type": "code",
        "colab": {}
      },
      "source": [
        "from keras.applications.resnet50 import ResNet50\n",
        "\n",
        "# define ResNet50 model\n",
        "ResNet50_model = ResNet50(weights='imagenet')"
      ],
      "execution_count": 0,
      "outputs": []
    },
    {
      "cell_type": "markdown",
      "metadata": {
        "id": "zazkCiddOVaA",
        "colab_type": "text"
      },
      "source": [
        "### Pre-process the Data\n"
      ]
    },
    {
      "cell_type": "code",
      "metadata": {
        "id": "5ke-dJX_OYdb",
        "colab_type": "code",
        "colab": {}
      },
      "source": [
        "from keras.preprocessing import image                  \n",
        "from tqdm import tqdm\n",
        "\n",
        "def path_to_tensor(img_path):\n",
        "    # loads RGB image as PIL.Image.Image type\n",
        "    img = image.load_img(img_path, target_size=(224, 224))\n",
        "    # convert PIL.Image.Image type to 3D tensor with shape (224, 224, 3)\n",
        "    x = image.img_to_array(img)\n",
        "    # convert 3D tensor to 4D tensor with shape (1, 224, 224, 3) and return 4D tensor\n",
        "    return np.expand_dims(x, axis=0)\n",
        "\n",
        "def paths_to_tensor(img_paths):\n",
        "    list_of_tensors = [path_to_tensor(img_path) for img_path in tqdm(img_paths)]\n",
        "    return np.vstack(list_of_tensors)"
      ],
      "execution_count": 0,
      "outputs": []
    },
    {
      "cell_type": "markdown",
      "metadata": {
        "id": "aJMSczJYSCsV",
        "colab_type": "text"
      },
      "source": [
        "### Making Predictions with ResNet-50\n"
      ]
    },
    {
      "cell_type": "code",
      "metadata": {
        "id": "rVtYiml8NcRf",
        "colab_type": "code",
        "colab": {}
      },
      "source": [
        "from keras.applications.resnet50 import preprocess_input, decode_predictions\n",
        "\n",
        "def ResNet50_predict_labels(img_path):\n",
        "    # returns prediction vector for image located at img_path\n",
        "    img = preprocess_input(path_to_tensor(img_path))\n",
        "    return np.argmax(ResNet50_model.predict(img))"
      ],
      "execution_count": 0,
      "outputs": []
    },
    {
      "cell_type": "markdown",
      "metadata": {
        "id": "j6SQCNbKSINt",
        "colab_type": "text"
      },
      "source": [
        "### Write a Dog Detector"
      ]
    },
    {
      "cell_type": "code",
      "metadata": {
        "id": "JXzWSY_gR23p",
        "colab_type": "code",
        "colab": {}
      },
      "source": [
        "### returns \"True\" if a dog is detected in the image stored at img_path\n",
        "def dog_detector(img_path):\n",
        "    prediction = ResNet50_predict_labels(img_path)\n",
        "    return ((prediction <= 268) & (prediction >= 151)) "
      ],
      "execution_count": 0,
      "outputs": []
    },
    {
      "cell_type": "markdown",
      "metadata": {
        "id": "swtv6PyLSTwM",
        "colab_type": "text"
      },
      "source": [
        "(IMPLEMENTATION) Assess the Dog Detector"
      ]
    },
    {
      "cell_type": "code",
      "metadata": {
        "id": "f3qFQD-gSU23",
        "colab_type": "code",
        "outputId": "dc6b5a39-ce24-4d7a-e83d-2a70392e5bdd",
        "colab": {
          "base_uri": "https://localhost:8080/",
          "height": 34
        }
      },
      "source": [
        "### TODO: Test the performance of the dog_detector function\n",
        "### on the images in human_files_short and dog_files_short.\n",
        "\n",
        "\n",
        "human_files_short = human_files[:100]\n",
        "dog_files_short = train_files[:200]\n",
        "# Do NOT modify the code above this line.\n",
        "percentage = 0\n",
        "\n",
        "for x in range(200):\n",
        "    if(dog_detector(dog_files_short[x])):\n",
        "        percentage +=1\n",
        "        \n",
        "print(percentage)"
      ],
      "execution_count": 0,
      "outputs": [
        {
          "output_type": "stream",
          "text": [
            "197\n"
          ],
          "name": "stdout"
        }
      ]
    },
    {
      "cell_type": "markdown",
      "metadata": {
        "id": "mnAgDNXOTvtE",
        "colab_type": "text"
      },
      "source": [
        "Step 3: Create a CNN to Classify Dog Breeds (from Scratch)"
      ]
    },
    {
      "cell_type": "code",
      "metadata": {
        "id": "nc68XZhRTwlz",
        "colab_type": "code",
        "outputId": "32777ea1-69f0-4782-fa62-ade5220dba8b",
        "colab": {
          "base_uri": "https://localhost:8080/",
          "height": 68
        }
      },
      "source": [
        "from PIL import ImageFile                            \n",
        "ImageFile.LOAD_TRUNCATED_IMAGES = True                 \n",
        "\n",
        "# pre-process the data for Keras\n",
        "train_tensors = paths_to_tensor(train_files).astype('float32')/255\n",
        "valid_tensors = paths_to_tensor(valid_files).astype('float32')/255\n",
        "test_tensors = paths_to_tensor(test_files).astype('float32')/255"
      ],
      "execution_count": 0,
      "outputs": [
        {
          "output_type": "stream",
          "text": [
            "100%|██████████| 6680/6680 [00:55<00:00, 120.81it/s]\n",
            "100%|██████████| 835/835 [00:06<00:00, 135.97it/s]\n",
            "100%|██████████| 836/836 [00:06<00:00, 137.14it/s]\n"
          ],
          "name": "stderr"
        }
      ]
    },
    {
      "cell_type": "markdown",
      "metadata": {
        "id": "9VspWq7XUA7l",
        "colab_type": "text"
      },
      "source": [
        "### (IMPLEMENTATION) Model Architecture\n"
      ]
    },
    {
      "cell_type": "code",
      "metadata": {
        "id": "ZTpTM1KDUAKe",
        "colab_type": "code",
        "outputId": "5052731c-d740-4fc5-e0ff-4086d67226dc",
        "colab": {
          "base_uri": "https://localhost:8080/",
          "height": 493
        }
      },
      "source": [
        "from keras.layers import Conv2D, MaxPooling2D, GlobalAveragePooling2D\n",
        "from keras.layers import Dropout, Flatten, Dense\n",
        "from keras.models import Sequential\n",
        "\n",
        "model = Sequential()\n",
        "model.add(Conv2D(filters=16, kernel_size=2, padding='same', activation='relu', \n",
        "                        input_shape=(224, 224, 3)))\n",
        "model.add(MaxPooling2D(pool_size=2))\n",
        "model.add(Conv2D(filters=32, kernel_size=2, padding='same', activation='relu'))\n",
        "model.add(MaxPooling2D(pool_size=2))\n",
        "model.add(Conv2D(filters=64, kernel_size=2, padding='same', activation='relu'))\n",
        "model.add(MaxPooling2D(pool_size=2))\n",
        "model.add(Conv2D(filters=128, kernel_size=2, padding='same', activation='relu'))\n",
        "model.add(MaxPooling2D(pool_size=2))\n",
        "model.add(GlobalAveragePooling2D())\n",
        "model.add(Dense(133, activation='softmax'))\n",
        "\n",
        "model.summary()"
      ],
      "execution_count": 0,
      "outputs": [
        {
          "output_type": "stream",
          "text": [
            "Model: \"sequential_4\"\n",
            "_________________________________________________________________\n",
            "Layer (type)                 Output Shape              Param #   \n",
            "=================================================================\n",
            "conv2d_5 (Conv2D)            (None, 224, 224, 16)      208       \n",
            "_________________________________________________________________\n",
            "max_pooling2d_8 (MaxPooling2 (None, 112, 112, 16)      0         \n",
            "_________________________________________________________________\n",
            "conv2d_6 (Conv2D)            (None, 112, 112, 32)      2080      \n",
            "_________________________________________________________________\n",
            "max_pooling2d_9 (MaxPooling2 (None, 56, 56, 32)        0         \n",
            "_________________________________________________________________\n",
            "conv2d_7 (Conv2D)            (None, 56, 56, 64)        8256      \n",
            "_________________________________________________________________\n",
            "max_pooling2d_10 (MaxPooling (None, 28, 28, 64)        0         \n",
            "_________________________________________________________________\n",
            "conv2d_8 (Conv2D)            (None, 28, 28, 128)       32896     \n",
            "_________________________________________________________________\n",
            "max_pooling2d_11 (MaxPooling (None, 14, 14, 128)       0         \n",
            "_________________________________________________________________\n",
            "global_average_pooling2d_4 ( (None, 128)               0         \n",
            "_________________________________________________________________\n",
            "dense_4 (Dense)              (None, 133)               17157     \n",
            "=================================================================\n",
            "Total params: 60,597\n",
            "Trainable params: 60,597\n",
            "Non-trainable params: 0\n",
            "_________________________________________________________________\n"
          ],
          "name": "stdout"
        }
      ]
    },
    {
      "cell_type": "markdown",
      "metadata": {
        "id": "okE-4H_CUkYp",
        "colab_type": "text"
      },
      "source": [
        "### Compile the Model"
      ]
    },
    {
      "cell_type": "code",
      "metadata": {
        "id": "rD36Kt1fUn0M",
        "colab_type": "code",
        "colab": {}
      },
      "source": [
        "model.compile(optimizer='rmsprop', loss='categorical_crossentropy', metrics=['accuracy'])"
      ],
      "execution_count": 0,
      "outputs": []
    },
    {
      "cell_type": "markdown",
      "metadata": {
        "id": "aREWBI2TUt79",
        "colab_type": "text"
      },
      "source": [
        "### (IMPLEMENTATION) Train the Model\n"
      ]
    },
    {
      "cell_type": "code",
      "metadata": {
        "id": "jw9YvTVYUugb",
        "colab_type": "code",
        "outputId": "7b1564f6-d949-4935-e547-366aad192127",
        "colab": {
          "base_uri": "https://localhost:8080/",
          "height": 411
        }
      },
      "source": [
        "from keras.callbacks import ModelCheckpoint  \n",
        "\n",
        "### TODO: specify the number of epochs that you would like to use to train the model.\n",
        "\n",
        "epochs = 5\n",
        "\n",
        "### Do NOT modify the code below this line.\n",
        "\n",
        "checkpointer = ModelCheckpoint(filepath='/content/dog_app/saved_models/weights.best.from_scratch.hdf5', \n",
        "                               verbose=1, save_best_only=True)\n",
        "\n",
        "model.fit(train_tensors, train_targets, \n",
        "          validation_data=(valid_tensors, valid_targets),\n",
        "          epochs=epochs, batch_size=20, callbacks=[checkpointer], verbose=1)"
      ],
      "execution_count": 0,
      "outputs": [
        {
          "output_type": "stream",
          "text": [
            "Train on 6680 samples, validate on 835 samples\n",
            "Epoch 1/5\n",
            "6680/6680 [==============================] - 15s 2ms/step - loss: 4.8841 - accuracy: 0.0079 - val_loss: 4.8706 - val_accuracy: 0.0120\n",
            "\n",
            "Epoch 00001: val_loss improved from inf to 4.87057, saving model to /content/dog_app/saved_models/weights.best.from_scratch.hdf5\n",
            "Epoch 2/5\n",
            "6680/6680 [==============================] - 14s 2ms/step - loss: 4.8516 - accuracy: 0.0135 - val_loss: 4.8276 - val_accuracy: 0.0192\n",
            "\n",
            "Epoch 00002: val_loss improved from 4.87057 to 4.82756, saving model to /content/dog_app/saved_models/weights.best.from_scratch.hdf5\n",
            "Epoch 3/5\n",
            "6680/6680 [==============================] - 14s 2ms/step - loss: 4.7896 - accuracy: 0.0204 - val_loss: 4.8005 - val_accuracy: 0.0192\n",
            "\n",
            "Epoch 00003: val_loss improved from 4.82756 to 4.80052, saving model to /content/dog_app/saved_models/weights.best.from_scratch.hdf5\n",
            "Epoch 4/5\n",
            "6680/6680 [==============================] - 14s 2ms/step - loss: 4.7177 - accuracy: 0.0263 - val_loss: 4.7155 - val_accuracy: 0.0311\n",
            "\n",
            "Epoch 00004: val_loss improved from 4.80052 to 4.71550, saving model to /content/dog_app/saved_models/weights.best.from_scratch.hdf5\n",
            "Epoch 5/5\n",
            "6680/6680 [==============================] - 14s 2ms/step - loss: 4.6497 - accuracy: 0.0311 - val_loss: 4.6619 - val_accuracy: 0.0323\n",
            "\n",
            "Epoch 00005: val_loss improved from 4.71550 to 4.66187, saving model to /content/dog_app/saved_models/weights.best.from_scratch.hdf5\n"
          ],
          "name": "stdout"
        },
        {
          "output_type": "execute_result",
          "data": {
            "text/plain": [
              "<keras.callbacks.callbacks.History at 0x7fa3b81b63c8>"
            ]
          },
          "metadata": {
            "tags": []
          },
          "execution_count": 68
        }
      ]
    },
    {
      "cell_type": "markdown",
      "metadata": {
        "id": "K9zuoOJhVmVS",
        "colab_type": "text"
      },
      "source": [
        "[link text](https://)### Load the Model with the Best Validation Loss"
      ]
    },
    {
      "cell_type": "code",
      "metadata": {
        "id": "BGrLTEBkVm66",
        "colab_type": "code",
        "colab": {}
      },
      "source": [
        "model.load_weights('/content/dog_app/saved_models/weights.best.from_scratch.hdf5')"
      ],
      "execution_count": 0,
      "outputs": []
    },
    {
      "cell_type": "markdown",
      "metadata": {
        "id": "_fNlB8MSXOrP",
        "colab_type": "text"
      },
      "source": [
        "### Test the Model\n"
      ]
    },
    {
      "cell_type": "code",
      "metadata": {
        "id": "u-jYdQS_XQ_s",
        "colab_type": "code",
        "outputId": "57219880-f49b-494b-b447-e520237f462d",
        "colab": {
          "base_uri": "https://localhost:8080/",
          "height": 34
        }
      },
      "source": [
        "# get index of predicted dog breed for each image in test set\n",
        "dog_breed_predictions = [np.argmax(model.predict(np.expand_dims(tensor, axis=0))) for tensor in test_tensors]\n",
        "\n",
        "# report test accuracy\n",
        "test_accuracy = 100*np.sum(np.array(dog_breed_predictions)==np.argmax(test_targets, axis=1))/len(dog_breed_predictions)\n",
        "print('Test accuracy: %.4f%%' % test_accuracy)"
      ],
      "execution_count": 0,
      "outputs": [
        {
          "output_type": "stream",
          "text": [
            "Test accuracy: 3.7081%\n"
          ],
          "name": "stdout"
        }
      ]
    },
    {
      "cell_type": "markdown",
      "metadata": {
        "id": "y5OtwG27Y1sk",
        "colab_type": "text"
      },
      "source": [
        "## Step 4: Use a CNN to Classify Dog Breeds\n"
      ]
    },
    {
      "cell_type": "code",
      "metadata": {
        "id": "go-RA83zY2OA",
        "colab_type": "code",
        "colab": {}
      },
      "source": [
        "bottleneck_features = np.load('/content/DogVGG16Data.npz')\n",
        "train_VGG16 = bottleneck_features['train']\n",
        "valid_VGG16 = bottleneck_features['valid']\n",
        "test_VGG16 = bottleneck_features['test']"
      ],
      "execution_count": 0,
      "outputs": []
    },
    {
      "cell_type": "markdown",
      "metadata": {
        "id": "5Jrqzi0BZ13Z",
        "colab_type": "text"
      },
      "source": [
        "Model Architecture"
      ]
    },
    {
      "cell_type": "code",
      "metadata": {
        "id": "SiW59h-mZ5qk",
        "colab_type": "code",
        "outputId": "9df6e465-2bae-40e7-99aa-00c7ed744f7b",
        "colab": {
          "base_uri": "https://localhost:8080/",
          "height": 221
        }
      },
      "source": [
        "VGG16_model = Sequential()\n",
        "VGG16_model.add(GlobalAveragePooling2D(input_shape=train_VGG16.shape[1:]))\n",
        "VGG16_model.add(Dense(133, activation='softmax'))\n",
        "\n",
        "VGG16_model.summary()"
      ],
      "execution_count": 0,
      "outputs": [
        {
          "output_type": "stream",
          "text": [
            "Model: \"sequential_5\"\n",
            "_________________________________________________________________\n",
            "Layer (type)                 Output Shape              Param #   \n",
            "=================================================================\n",
            "global_average_pooling2d_5 ( (None, 512)               0         \n",
            "_________________________________________________________________\n",
            "dense_5 (Dense)              (None, 133)               68229     \n",
            "=================================================================\n",
            "Total params: 68,229\n",
            "Trainable params: 68,229\n",
            "Non-trainable params: 0\n",
            "_________________________________________________________________\n"
          ],
          "name": "stdout"
        }
      ]
    },
    {
      "cell_type": "markdown",
      "metadata": {
        "id": "dGsn-nOUaMsd",
        "colab_type": "text"
      },
      "source": [
        "Compile the Model"
      ]
    },
    {
      "cell_type": "code",
      "metadata": {
        "id": "Bm-EExxDaQaK",
        "colab_type": "code",
        "colab": {}
      },
      "source": [
        "VGG16_model.compile(loss='categorical_crossentropy', optimizer='rmsprop', metrics=['accuracy'])"
      ],
      "execution_count": 0,
      "outputs": []
    },
    {
      "cell_type": "code",
      "metadata": {
        "id": "bKdF8lqKacMY",
        "colab_type": "code",
        "outputId": "7026edcc-301a-4241-d86e-c13127601a0f",
        "colab": {
          "base_uri": "https://localhost:8080/",
          "height": 1000
        }
      },
      "source": [
        "checkpointer = ModelCheckpoint(filepath='/content/dog_app/saved_models/weights.best.VGG16.hdf5', \n",
        "                               verbose=1, save_best_only=True)\n",
        "\n",
        "VGG16_model.fit(train_VGG16, train_targets, \n",
        "          validation_data=(valid_VGG16, valid_targets),\n",
        "          epochs=20, batch_size=20, callbacks=[checkpointer], verbose=1)"
      ],
      "execution_count": 0,
      "outputs": [
        {
          "output_type": "stream",
          "text": [
            "Train on 6680 samples, validate on 835 samples\n",
            "Epoch 1/20\n",
            "6680/6680 [==============================] - 2s 227us/step - loss: 7.8597 - accuracy: 0.2371 - val_loss: 3.7871 - val_accuracy: 0.4311\n",
            "\n",
            "Epoch 00001: val_loss improved from inf to 3.78712, saving model to /content/dog_app/saved_models/weights.best.VGG16.hdf5\n",
            "Epoch 2/20\n",
            "6680/6680 [==============================] - 1s 223us/step - loss: 2.1495 - accuracy: 0.6039 - val_loss: 2.5113 - val_accuracy: 0.5832\n",
            "\n",
            "Epoch 00002: val_loss improved from 3.78712 to 2.51131, saving model to /content/dog_app/saved_models/weights.best.VGG16.hdf5\n",
            "Epoch 3/20\n",
            "6680/6680 [==============================] - 2s 225us/step - loss: 1.2463 - accuracy: 0.7338 - val_loss: 2.4058 - val_accuracy: 0.5976\n",
            "\n",
            "Epoch 00003: val_loss improved from 2.51131 to 2.40577, saving model to /content/dog_app/saved_models/weights.best.VGG16.hdf5\n",
            "Epoch 4/20\n",
            "6680/6680 [==============================] - 1s 223us/step - loss: 0.8227 - accuracy: 0.8109 - val_loss: 2.0511 - val_accuracy: 0.6539\n",
            "\n",
            "Epoch 00004: val_loss improved from 2.40577 to 2.05113, saving model to /content/dog_app/saved_models/weights.best.VGG16.hdf5\n",
            "Epoch 5/20\n",
            "6680/6680 [==============================] - 1s 223us/step - loss: 0.5622 - accuracy: 0.8599 - val_loss: 1.9350 - val_accuracy: 0.6683\n",
            "\n",
            "Epoch 00005: val_loss improved from 2.05113 to 1.93501, saving model to /content/dog_app/saved_models/weights.best.VGG16.hdf5\n",
            "Epoch 6/20\n",
            "6680/6680 [==============================] - 1s 216us/step - loss: 0.3985 - accuracy: 0.8957 - val_loss: 2.0096 - val_accuracy: 0.6719\n",
            "\n",
            "Epoch 00006: val_loss did not improve from 1.93501\n",
            "Epoch 7/20\n",
            "6680/6680 [==============================] - 1s 215us/step - loss: 0.3004 - accuracy: 0.9166 - val_loss: 2.0687 - val_accuracy: 0.6910\n",
            "\n",
            "Epoch 00007: val_loss did not improve from 1.93501\n",
            "Epoch 8/20\n",
            "6680/6680 [==============================] - 1s 221us/step - loss: 0.2205 - accuracy: 0.9314 - val_loss: 1.8709 - val_accuracy: 0.7018\n",
            "\n",
            "Epoch 00008: val_loss improved from 1.93501 to 1.87087, saving model to /content/dog_app/saved_models/weights.best.VGG16.hdf5\n",
            "Epoch 9/20\n",
            "6680/6680 [==============================] - 1s 221us/step - loss: 0.1635 - accuracy: 0.9539 - val_loss: 1.8799 - val_accuracy: 0.7018\n",
            "\n",
            "Epoch 00009: val_loss did not improve from 1.87087\n",
            "Epoch 10/20\n",
            "6680/6680 [==============================] - 1s 221us/step - loss: 0.1283 - accuracy: 0.9617 - val_loss: 1.9595 - val_accuracy: 0.7006\n",
            "\n",
            "Epoch 00010: val_loss did not improve from 1.87087\n",
            "Epoch 11/20\n",
            "6680/6680 [==============================] - 1s 220us/step - loss: 0.1067 - accuracy: 0.9699 - val_loss: 1.8688 - val_accuracy: 0.7186\n",
            "\n",
            "Epoch 00011: val_loss improved from 1.87087 to 1.86881, saving model to /content/dog_app/saved_models/weights.best.VGG16.hdf5\n",
            "Epoch 12/20\n",
            "6680/6680 [==============================] - 1s 222us/step - loss: 0.0780 - accuracy: 0.9756 - val_loss: 2.0327 - val_accuracy: 0.7269\n",
            "\n",
            "Epoch 00012: val_loss did not improve from 1.86881\n",
            "Epoch 13/20\n",
            "6680/6680 [==============================] - 1s 221us/step - loss: 0.0661 - accuracy: 0.9804 - val_loss: 1.9291 - val_accuracy: 0.7257\n",
            "\n",
            "Epoch 00013: val_loss did not improve from 1.86881\n",
            "Epoch 14/20\n",
            "6680/6680 [==============================] - 1s 222us/step - loss: 0.0527 - accuracy: 0.9832 - val_loss: 2.0739 - val_accuracy: 0.7281\n",
            "\n",
            "Epoch 00014: val_loss did not improve from 1.86881\n",
            "Epoch 15/20\n",
            "6680/6680 [==============================] - 1s 219us/step - loss: 0.0453 - accuracy: 0.9868 - val_loss: 1.9748 - val_accuracy: 0.7377\n",
            "\n",
            "Epoch 00015: val_loss did not improve from 1.86881\n",
            "Epoch 16/20\n",
            "6680/6680 [==============================] - 1s 222us/step - loss: 0.0376 - accuracy: 0.9880 - val_loss: 2.0263 - val_accuracy: 0.7162\n",
            "\n",
            "Epoch 00016: val_loss did not improve from 1.86881\n",
            "Epoch 17/20\n",
            "6680/6680 [==============================] - 1s 222us/step - loss: 0.0326 - accuracy: 0.9913 - val_loss: 1.9439 - val_accuracy: 0.7305\n",
            "\n",
            "Epoch 00017: val_loss did not improve from 1.86881\n",
            "Epoch 18/20\n",
            "6680/6680 [==============================] - 1s 222us/step - loss: 0.0298 - accuracy: 0.9910 - val_loss: 2.1185 - val_accuracy: 0.7246\n",
            "\n",
            "Epoch 00018: val_loss did not improve from 1.86881\n",
            "Epoch 19/20\n",
            "6680/6680 [==============================] - 1s 221us/step - loss: 0.0238 - accuracy: 0.9931 - val_loss: 2.0666 - val_accuracy: 0.7257\n",
            "\n",
            "Epoch 00019: val_loss did not improve from 1.86881\n",
            "Epoch 20/20\n",
            "6680/6680 [==============================] - 1s 220us/step - loss: 0.0224 - accuracy: 0.9937 - val_loss: 2.2003 - val_accuracy: 0.7341\n",
            "\n",
            "Epoch 00020: val_loss did not improve from 1.86881\n"
          ],
          "name": "stdout"
        },
        {
          "output_type": "execute_result",
          "data": {
            "text/plain": [
              "<keras.callbacks.callbacks.History at 0x7fa2c809a320>"
            ]
          },
          "metadata": {
            "tags": []
          },
          "execution_count": 74
        }
      ]
    },
    {
      "cell_type": "code",
      "metadata": {
        "id": "XdbJki8uap8y",
        "colab_type": "code",
        "colab": {}
      },
      "source": [
        "VGG16_model.load_weights('/content/dog_app/saved_models/weights.best.VGG16.hdf5')"
      ],
      "execution_count": 0,
      "outputs": []
    },
    {
      "cell_type": "code",
      "metadata": {
        "id": "mQRaTujJatyb",
        "colab_type": "code",
        "outputId": "57a52ede-48cf-44c1-aff3-96278d9470a5",
        "colab": {
          "base_uri": "https://localhost:8080/",
          "height": 34
        }
      },
      "source": [
        "# get index of predicted dog breed for each image in test set\n",
        "VGG16_predictions = [np.argmax(VGG16_model.predict(np.expand_dims(feature, axis=0))) for feature in test_VGG16]\n",
        "\n",
        "# report test accuracy\n",
        "test_accuracy = 100*np.sum(np.array(VGG16_predictions)==np.argmax(test_targets, axis=1))/len(VGG16_predictions)\n",
        "print('Test accuracy: %.4f%%' % test_accuracy)"
      ],
      "execution_count": 0,
      "outputs": [
        {
          "output_type": "stream",
          "text": [
            "Test accuracy: 73.0861%\n"
          ],
          "name": "stdout"
        }
      ]
    },
    {
      "cell_type": "markdown",
      "metadata": {
        "id": "QPHtcpUQaz8U",
        "colab_type": "text"
      },
      "source": [
        "Predict Dog Breed with the Model"
      ]
    },
    {
      "cell_type": "code",
      "metadata": {
        "id": "u3ndahRha0a9",
        "colab_type": "code",
        "colab": {}
      },
      "source": [
        "import sys\n",
        "# the mock-0.3.1 dir contains testcase.py, testutils.py & mock.py\n",
        "sys.path.append('/content/dog_app')\n",
        "\n",
        "from extract_bottleneck_features import *\n",
        "\n",
        "def VGG16_predict_breed(img_path):\n",
        "    # extract bottleneck features\n",
        "    bottleneck_feature = extract_VGG16(path_to_tensor(img_path))\n",
        "    # obtain predicted vector\n",
        "    predicted_vector = VGG16_model.predict(bottleneck_feature)\n",
        "    # return dog breed that is predicted by the model\n",
        "    return dog_names[np.argmax(predicted_vector)]"
      ],
      "execution_count": 0,
      "outputs": []
    },
    {
      "cell_type": "code",
      "metadata": {
        "id": "Aby4hTBxrFdt",
        "colab_type": "code",
        "outputId": "0a4ee79d-96c0-4855-ec07-9355fdbd26a9",
        "colab": {
          "base_uri": "https://localhost:8080/",
          "height": 204
        }
      },
      "source": [
        "!wget -c https://cdn1-www.dogtime.com/assets/uploads/2011/01/file_23020_dachshund-dog-breed.jpg -O dog-14.jpg"
      ],
      "execution_count": 0,
      "outputs": [
        {
          "output_type": "stream",
          "text": [
            "--2020-05-09 00:03:10--  https://cdn1-www.dogtime.com/assets/uploads/2011/01/file_23020_dachshund-dog-breed.jpg\n",
            "Resolving cdn1-www.dogtime.com (cdn1-www.dogtime.com)... 104.17.69.15, 104.17.70.15\n",
            "Connecting to cdn1-www.dogtime.com (cdn1-www.dogtime.com)|104.17.69.15|:443... connected.\n",
            "HTTP request sent, awaiting response... 200 OK\n",
            "Length: 96143 (94K) [image/jpeg]\n",
            "Saving to: ‘dog-14.jpg’\n",
            "\n",
            "\rdog-14.jpg            0%[                    ]       0  --.-KB/s               \rdog-14.jpg          100%[===================>]  93.89K  --.-KB/s    in 0.006s  \n",
            "\n",
            "2020-05-09 00:03:10 (14.4 MB/s) - ‘dog-14.jpg’ saved [96143/96143]\n",
            "\n"
          ],
          "name": "stdout"
        }
      ]
    },
    {
      "cell_type": "code",
      "metadata": {
        "id": "EV1yCQB1dIme",
        "colab_type": "code",
        "outputId": "55d54426-3eff-460a-98f7-e8a88fe01104",
        "colab": {
          "base_uri": "https://localhost:8080/",
          "height": 34
        }
      },
      "source": [
        "VGG16_predict_breed('/content/dog-14.jpg')"
      ],
      "execution_count": 0,
      "outputs": [
        {
          "output_type": "execute_result",
          "data": {
            "text/plain": [
              "'Images/train/025.Black_and_tan_coonhound'"
            ]
          },
          "metadata": {
            "tags": []
          },
          "execution_count": 100
        }
      ]
    },
    {
      "cell_type": "markdown",
      "metadata": {
        "id": "Q6jp69pvhLTn",
        "colab_type": "text"
      },
      "source": [
        ""
      ]
    },
    {
      "cell_type": "code",
      "metadata": {
        "id": "h1tEQkTnrggn",
        "colab_type": "code",
        "outputId": "88c0da0f-81c0-48ac-cb49-b4b6de13ad69",
        "colab": {
          "base_uri": "https://localhost:8080/",
          "height": 204
        }
      },
      "source": [
        "!wget https://s3-us-west-1.amazonaws.com/udacity-aind/dog-project/DogResnet50Data.npz"
      ],
      "execution_count": 0,
      "outputs": [
        {
          "output_type": "stream",
          "text": [
            "--2020-05-08 23:54:51--  https://s3-us-west-1.amazonaws.com/udacity-aind/dog-project/DogResnet50Data.npz\n",
            "Resolving s3-us-west-1.amazonaws.com (s3-us-west-1.amazonaws.com)... 52.219.116.248\n",
            "Connecting to s3-us-west-1.amazonaws.com (s3-us-west-1.amazonaws.com)|52.219.116.248|:443... connected.\n",
            "HTTP request sent, awaiting response... 200 OK\n",
            "Length: 80602216 (77M) [application/x-www-form-urlencoded]\n",
            "Saving to: ‘DogResnet50Data.npz.1’\n",
            "\n",
            "DogResnet50Data.npz 100%[===================>]  76.87M  16.8MB/s    in 4.6s    \n",
            "\n",
            "2020-05-08 23:54:56 (16.8 MB/s) - ‘DogResnet50Data.npz.1’ saved [80602216/80602216]\n",
            "\n"
          ],
          "name": "stdout"
        }
      ]
    },
    {
      "cell_type": "code",
      "metadata": {
        "id": "q6qOhlSth7p9",
        "colab_type": "code",
        "colab": {}
      },
      "source": [
        "bottleneck_features = np.load('/content/DogResnet50Data.npz')\n",
        "train_Resnet50 = bottleneck_features['train']\n",
        "valid_Resnet50 = bottleneck_features['valid']\n",
        "test_Resnet50 = bottleneck_features['test']"
      ],
      "execution_count": 0,
      "outputs": []
    },
    {
      "cell_type": "markdown",
      "metadata": {
        "id": "a0KT9wbEipCk",
        "colab_type": "text"
      },
      "source": [
        "(IMPLEMENTATION) Model Architecture"
      ]
    },
    {
      "cell_type": "code",
      "metadata": {
        "id": "4EXNuPOdipnR",
        "colab_type": "code",
        "outputId": "83c3440c-3bb9-4d6a-bfa2-92e4212ec14d",
        "colab": {
          "base_uri": "https://localhost:8080/",
          "height": 221
        }
      },
      "source": [
        "Resnet50_model = Sequential()\n",
        "Resnet50_model.add(GlobalAveragePooling2D(input_shape=train_Resnet50.shape[1:]))\n",
        "Resnet50_model.add(Dense(133, activation='softmax'))\n",
        "\n",
        "Resnet50_model.summary()"
      ],
      "execution_count": 0,
      "outputs": [
        {
          "output_type": "stream",
          "text": [
            "Model: \"sequential_6\"\n",
            "_________________________________________________________________\n",
            "Layer (type)                 Output Shape              Param #   \n",
            "=================================================================\n",
            "global_average_pooling2d_6 ( (None, 2048)              0         \n",
            "_________________________________________________________________\n",
            "dense_6 (Dense)              (None, 133)               272517    \n",
            "=================================================================\n",
            "Total params: 272,517\n",
            "Trainable params: 272,517\n",
            "Non-trainable params: 0\n",
            "_________________________________________________________________\n"
          ],
          "name": "stdout"
        }
      ]
    },
    {
      "cell_type": "markdown",
      "metadata": {
        "id": "tnvJTyN_jJF6",
        "colab_type": "text"
      },
      "source": [
        "### (IMPLEMENTATION) Compile the Model"
      ]
    },
    {
      "cell_type": "code",
      "metadata": {
        "id": "32VmnpDMjJg9",
        "colab_type": "code",
        "colab": {}
      },
      "source": [
        "Resnet50_model.compile(loss='categorical_crossentropy', optimizer='rmsprop', metrics=['accuracy'])"
      ],
      "execution_count": 0,
      "outputs": []
    },
    {
      "cell_type": "markdown",
      "metadata": {
        "id": "oibV6v_3jXOa",
        "colab_type": "text"
      },
      "source": [
        "### (IMPLEMENTATION) Train the Model\n"
      ]
    },
    {
      "cell_type": "code",
      "metadata": {
        "id": "pq0w7JKjjYTK",
        "colab_type": "code",
        "outputId": "cf0277a0-7a52-4c6c-a01b-2acbe140fd5d",
        "colab": {
          "base_uri": "https://localhost:8080/",
          "height": 1000
        }
      },
      "source": [
        "checkpointer = ModelCheckpoint(filepath='/content/dog_app/saved_models/weights.best.Resnet50.hdf5', \n",
        "                               verbose=1, save_best_only=True)\n",
        "\n",
        "Resnet50_model.fit(train_Resnet50, train_targets, \n",
        "          validation_data=(valid_Resnet50, valid_targets),\n",
        "          epochs=20, batch_size=20, callbacks=[checkpointer], verbose=1)"
      ],
      "execution_count": 0,
      "outputs": [
        {
          "output_type": "stream",
          "text": [
            "Train on 6680 samples, validate on 835 samples\n",
            "Epoch 1/20\n",
            "6680/6680 [==============================] - 1s 191us/step - loss: 1.6468 - accuracy: 0.5840 - val_loss: 0.8421 - val_accuracy: 0.7449\n",
            "\n",
            "Epoch 00001: val_loss improved from inf to 0.84208, saving model to /content/dog_app/saved_models/weights.best.Resnet50.hdf5\n",
            "Epoch 2/20\n",
            "6680/6680 [==============================] - 1s 181us/step - loss: 0.4413 - accuracy: 0.8611 - val_loss: 0.6994 - val_accuracy: 0.7796\n",
            "\n",
            "Epoch 00002: val_loss improved from 0.84208 to 0.69940, saving model to /content/dog_app/saved_models/weights.best.Resnet50.hdf5\n",
            "Epoch 3/20\n",
            "6680/6680 [==============================] - 1s 180us/step - loss: 0.2630 - accuracy: 0.9133 - val_loss: 0.6680 - val_accuracy: 0.7964\n",
            "\n",
            "Epoch 00003: val_loss improved from 0.69940 to 0.66804, saving model to /content/dog_app/saved_models/weights.best.Resnet50.hdf5\n",
            "Epoch 4/20\n",
            "6680/6680 [==============================] - 1s 181us/step - loss: 0.1768 - accuracy: 0.9443 - val_loss: 0.6748 - val_accuracy: 0.8072\n",
            "\n",
            "Epoch 00004: val_loss did not improve from 0.66804\n",
            "Epoch 5/20\n",
            "6680/6680 [==============================] - 1s 177us/step - loss: 0.1263 - accuracy: 0.9608 - val_loss: 0.6687 - val_accuracy: 0.8084\n",
            "\n",
            "Epoch 00005: val_loss did not improve from 0.66804\n",
            "Epoch 6/20\n",
            "6680/6680 [==============================] - 1s 181us/step - loss: 0.0900 - accuracy: 0.9719 - val_loss: 0.6728 - val_accuracy: 0.8180\n",
            "\n",
            "Epoch 00006: val_loss did not improve from 0.66804\n",
            "Epoch 7/20\n",
            "6680/6680 [==============================] - 1s 179us/step - loss: 0.0648 - accuracy: 0.9796 - val_loss: 0.7438 - val_accuracy: 0.8072\n",
            "\n",
            "Epoch 00007: val_loss did not improve from 0.66804\n",
            "Epoch 8/20\n",
            "6680/6680 [==============================] - 1s 179us/step - loss: 0.0496 - accuracy: 0.9852 - val_loss: 0.7154 - val_accuracy: 0.8168\n",
            "\n",
            "Epoch 00008: val_loss did not improve from 0.66804\n",
            "Epoch 9/20\n",
            "6680/6680 [==============================] - 1s 179us/step - loss: 0.0387 - accuracy: 0.9889 - val_loss: 0.7704 - val_accuracy: 0.8084\n",
            "\n",
            "Epoch 00009: val_loss did not improve from 0.66804\n",
            "Epoch 10/20\n",
            "6680/6680 [==============================] - 1s 180us/step - loss: 0.0286 - accuracy: 0.9925 - val_loss: 0.7835 - val_accuracy: 0.8192\n",
            "\n",
            "Epoch 00010: val_loss did not improve from 0.66804\n",
            "Epoch 11/20\n",
            "6680/6680 [==============================] - 1s 180us/step - loss: 0.0218 - accuracy: 0.9936 - val_loss: 0.7347 - val_accuracy: 0.8132\n",
            "\n",
            "Epoch 00011: val_loss did not improve from 0.66804\n",
            "Epoch 12/20\n",
            "6680/6680 [==============================] - 1s 180us/step - loss: 0.0165 - accuracy: 0.9954 - val_loss: 0.8190 - val_accuracy: 0.8299\n",
            "\n",
            "Epoch 00012: val_loss did not improve from 0.66804\n",
            "Epoch 13/20\n",
            "6680/6680 [==============================] - 1s 179us/step - loss: 0.0129 - accuracy: 0.9970 - val_loss: 0.8073 - val_accuracy: 0.8240\n",
            "\n",
            "Epoch 00013: val_loss did not improve from 0.66804\n",
            "Epoch 14/20\n",
            "6680/6680 [==============================] - 1s 179us/step - loss: 0.0104 - accuracy: 0.9975 - val_loss: 0.8571 - val_accuracy: 0.8192\n",
            "\n",
            "Epoch 00014: val_loss did not improve from 0.66804\n",
            "Epoch 15/20\n",
            "6680/6680 [==============================] - 1s 181us/step - loss: 0.0107 - accuracy: 0.9975 - val_loss: 0.8823 - val_accuracy: 0.8204\n",
            "\n",
            "Epoch 00015: val_loss did not improve from 0.66804\n",
            "Epoch 16/20\n",
            "6680/6680 [==============================] - 1s 178us/step - loss: 0.0079 - accuracy: 0.9988 - val_loss: 0.8650 - val_accuracy: 0.8180\n",
            "\n",
            "Epoch 00016: val_loss did not improve from 0.66804\n",
            "Epoch 17/20\n",
            "6680/6680 [==============================] - 1s 209us/step - loss: 0.0067 - accuracy: 0.9985 - val_loss: 0.9079 - val_accuracy: 0.8216\n",
            "\n",
            "Epoch 00017: val_loss did not improve from 0.66804\n",
            "Epoch 18/20\n",
            "6680/6680 [==============================] - 1s 213us/step - loss: 0.0075 - accuracy: 0.9979 - val_loss: 0.9397 - val_accuracy: 0.8192\n",
            "\n",
            "Epoch 00018: val_loss did not improve from 0.66804\n",
            "Epoch 19/20\n",
            "6680/6680 [==============================] - 1s 214us/step - loss: 0.0060 - accuracy: 0.9985 - val_loss: 0.9074 - val_accuracy: 0.8263\n",
            "\n",
            "Epoch 00019: val_loss did not improve from 0.66804\n",
            "Epoch 20/20\n",
            "6680/6680 [==============================] - 1s 209us/step - loss: 0.0062 - accuracy: 0.9984 - val_loss: 0.9223 - val_accuracy: 0.8263\n",
            "\n",
            "Epoch 00020: val_loss did not improve from 0.66804\n"
          ],
          "name": "stdout"
        },
        {
          "output_type": "execute_result",
          "data": {
            "text/plain": [
              "<keras.callbacks.callbacks.History at 0x7fa2c7f56390>"
            ]
          },
          "metadata": {
            "tags": []
          },
          "execution_count": 84
        }
      ]
    },
    {
      "cell_type": "markdown",
      "metadata": {
        "id": "PiQWMKSwkFjN",
        "colab_type": "text"
      },
      "source": [
        "(IMPLEMENTATION) Load the Model with the Best Validation Loss"
      ]
    },
    {
      "cell_type": "code",
      "metadata": {
        "id": "rNg4a_mGinm-",
        "colab_type": "code",
        "colab": {}
      },
      "source": [
        "Resnet50_model.load_weights('/content/dog_app/saved_models/weights.best.Resnet50.hdf5')"
      ],
      "execution_count": 0,
      "outputs": []
    },
    {
      "cell_type": "code",
      "metadata": {
        "colab_type": "code",
        "id": "BbXXxSq8lAVf",
        "outputId": "c5ab9bf4-c221-43a9-cb5e-71f6d3b63231",
        "colab": {
          "base_uri": "https://localhost:8080/",
          "height": 34
        }
      },
      "source": [
        "# get index of predicted dog breed for each image in test set\n",
        "Resnet50_predictions = [np.argmax(Resnet50_model.predict(np.expand_dims(feature, axis=0))) for feature in test_Resnet50]\n",
        "\n",
        "# report test accuracy\n",
        "test_accuracy = 100*np.sum(np.array(Resnet50_predictions)==np.argmax(test_targets, axis=1))/len(Resnet50_predictions)\n",
        "print('Test accuracy: %.4f%%' % test_accuracy)"
      ],
      "execution_count": 0,
      "outputs": [
        {
          "output_type": "stream",
          "text": [
            "Test accuracy: 79.5455%\n"
          ],
          "name": "stdout"
        }
      ]
    },
    {
      "cell_type": "markdown",
      "metadata": {
        "id": "l-Bj0G5JlSfP",
        "colab_type": "text"
      },
      "source": [
        "### (IMPLEMENTATION) Predict Dog Breed with the Model\n"
      ]
    },
    {
      "cell_type": "code",
      "metadata": {
        "id": "Y8rXqZw1lUV0",
        "colab_type": "code",
        "colab": {}
      },
      "source": [
        "import sys\n",
        "# the mock-0.3.1 dir contains testcase.py, testutils.py & mock.py\n",
        "sys.path.append('/content/dog_app')\n",
        "\n",
        "from extract_bottleneck_features import *\n",
        "\n",
        "def Resnet50_predict_breed(img_path):\n",
        "    # extract bottleneck features\n",
        "    bottleneck_feature = extract_Resnet50(path_to_tensor(img_path))\n",
        "    # obtain predicted vector\n",
        "    predicted_vector = Resnet50_model.predict(bottleneck_feature)\n",
        "    # return dog breed that is predicted by the model\n",
        "    return dog_names[np.argmax(predicted_vector)]"
      ],
      "execution_count": 0,
      "outputs": []
    },
    {
      "cell_type": "code",
      "metadata": {
        "id": "VMcXbg3mls6i",
        "colab_type": "code",
        "outputId": "ef655413-f4c1-4088-9280-6e1f48bdfba0",
        "colab": {
          "base_uri": "https://localhost:8080/",
          "height": 360
        }
      },
      "source": [
        "Resnet50_predict_breed('/content/dog_app/dogImages/valid/001.Affenpinscher/Affenpinscher_00038.jpg')"
      ],
      "execution_count": 0,
      "outputs": [
        {
          "output_type": "stream",
          "text": [
            "/usr/local/lib/python3.6/dist-packages/keras_applications/resnet50.py:265: UserWarning: The output shape of `ResNet50(include_top=False)` has been changed since Keras 2.2.0.\n",
            "  warnings.warn('The output shape of `ResNet50(include_top=False)` '\n"
          ],
          "name": "stderr"
        },
        {
          "output_type": "error",
          "ename": "ValueError",
          "evalue": "ignored",
          "traceback": [
            "\u001b[0;31m---------------------------------------------------------------------------\u001b[0m",
            "\u001b[0;31mValueError\u001b[0m                                Traceback (most recent call last)",
            "\u001b[0;32m<ipython-input-88-c39b705e4bff>\u001b[0m in \u001b[0;36m<module>\u001b[0;34m()\u001b[0m\n\u001b[0;32m----> 1\u001b[0;31m \u001b[0mResnet50_predict_breed\u001b[0m\u001b[0;34m(\u001b[0m\u001b[0;34m'/content/dog_app/dogImages/valid/001.Affenpinscher/Affenpinscher_00038.jpg'\u001b[0m\u001b[0;34m)\u001b[0m\u001b[0;34m\u001b[0m\u001b[0;34m\u001b[0m\u001b[0m\n\u001b[0m",
            "\u001b[0;32m<ipython-input-87-098fea69289b>\u001b[0m in \u001b[0;36mResnet50_predict_breed\u001b[0;34m(img_path)\u001b[0m\n\u001b[1;32m      9\u001b[0m     \u001b[0mbottleneck_feature\u001b[0m \u001b[0;34m=\u001b[0m \u001b[0mextract_Resnet50\u001b[0m\u001b[0;34m(\u001b[0m\u001b[0mpath_to_tensor\u001b[0m\u001b[0;34m(\u001b[0m\u001b[0mimg_path\u001b[0m\u001b[0;34m)\u001b[0m\u001b[0;34m)\u001b[0m\u001b[0;34m\u001b[0m\u001b[0;34m\u001b[0m\u001b[0m\n\u001b[1;32m     10\u001b[0m     \u001b[0;31m# obtain predicted vector\u001b[0m\u001b[0;34m\u001b[0m\u001b[0;34m\u001b[0m\u001b[0;34m\u001b[0m\u001b[0m\n\u001b[0;32m---> 11\u001b[0;31m     \u001b[0mpredicted_vector\u001b[0m \u001b[0;34m=\u001b[0m \u001b[0mResnet50_model\u001b[0m\u001b[0;34m.\u001b[0m\u001b[0mpredict\u001b[0m\u001b[0;34m(\u001b[0m\u001b[0mbottleneck_feature\u001b[0m\u001b[0;34m)\u001b[0m\u001b[0;34m\u001b[0m\u001b[0;34m\u001b[0m\u001b[0m\n\u001b[0m\u001b[1;32m     12\u001b[0m     \u001b[0;31m# return dog breed that is predicted by the model\u001b[0m\u001b[0;34m\u001b[0m\u001b[0;34m\u001b[0m\u001b[0;34m\u001b[0m\u001b[0m\n\u001b[1;32m     13\u001b[0m     \u001b[0;32mreturn\u001b[0m \u001b[0mdog_names\u001b[0m\u001b[0;34m[\u001b[0m\u001b[0mnp\u001b[0m\u001b[0;34m.\u001b[0m\u001b[0margmax\u001b[0m\u001b[0;34m(\u001b[0m\u001b[0mpredicted_vector\u001b[0m\u001b[0;34m)\u001b[0m\u001b[0;34m]\u001b[0m\u001b[0;34m\u001b[0m\u001b[0;34m\u001b[0m\u001b[0m\n",
            "\u001b[0;32m/usr/local/lib/python3.6/dist-packages/keras/engine/training.py\u001b[0m in \u001b[0;36mpredict\u001b[0;34m(self, x, batch_size, verbose, steps, callbacks, max_queue_size, workers, use_multiprocessing)\u001b[0m\n\u001b[1;32m   1439\u001b[0m \u001b[0;34m\u001b[0m\u001b[0m\n\u001b[1;32m   1440\u001b[0m         \u001b[0;31m# Case 2: Symbolic tensors or Numpy array-like.\u001b[0m\u001b[0;34m\u001b[0m\u001b[0;34m\u001b[0m\u001b[0;34m\u001b[0m\u001b[0m\n\u001b[0;32m-> 1441\u001b[0;31m         \u001b[0mx\u001b[0m\u001b[0;34m,\u001b[0m \u001b[0m_\u001b[0m\u001b[0;34m,\u001b[0m \u001b[0m_\u001b[0m \u001b[0;34m=\u001b[0m \u001b[0mself\u001b[0m\u001b[0;34m.\u001b[0m\u001b[0m_standardize_user_data\u001b[0m\u001b[0;34m(\u001b[0m\u001b[0mx\u001b[0m\u001b[0;34m)\u001b[0m\u001b[0;34m\u001b[0m\u001b[0;34m\u001b[0m\u001b[0m\n\u001b[0m\u001b[1;32m   1442\u001b[0m         \u001b[0;32mif\u001b[0m \u001b[0mself\u001b[0m\u001b[0;34m.\u001b[0m\u001b[0mstateful\u001b[0m\u001b[0;34m:\u001b[0m\u001b[0;34m\u001b[0m\u001b[0;34m\u001b[0m\u001b[0m\n\u001b[1;32m   1443\u001b[0m             \u001b[0;32mif\u001b[0m \u001b[0mx\u001b[0m\u001b[0;34m[\u001b[0m\u001b[0;36m0\u001b[0m\u001b[0;34m]\u001b[0m\u001b[0;34m.\u001b[0m\u001b[0mshape\u001b[0m\u001b[0;34m[\u001b[0m\u001b[0;36m0\u001b[0m\u001b[0;34m]\u001b[0m \u001b[0;34m>\u001b[0m \u001b[0mbatch_size\u001b[0m \u001b[0;32mand\u001b[0m \u001b[0mx\u001b[0m\u001b[0;34m[\u001b[0m\u001b[0;36m0\u001b[0m\u001b[0;34m]\u001b[0m\u001b[0;34m.\u001b[0m\u001b[0mshape\u001b[0m\u001b[0;34m[\u001b[0m\u001b[0;36m0\u001b[0m\u001b[0;34m]\u001b[0m \u001b[0;34m%\u001b[0m \u001b[0mbatch_size\u001b[0m \u001b[0;34m!=\u001b[0m \u001b[0;36m0\u001b[0m\u001b[0;34m:\u001b[0m\u001b[0;34m\u001b[0m\u001b[0;34m\u001b[0m\u001b[0m\n",
            "\u001b[0;32m/usr/local/lib/python3.6/dist-packages/keras/engine/training.py\u001b[0m in \u001b[0;36m_standardize_user_data\u001b[0;34m(self, x, y, sample_weight, class_weight, check_array_lengths, batch_size)\u001b[0m\n\u001b[1;32m    577\u001b[0m             \u001b[0mfeed_input_shapes\u001b[0m\u001b[0;34m,\u001b[0m\u001b[0;34m\u001b[0m\u001b[0;34m\u001b[0m\u001b[0m\n\u001b[1;32m    578\u001b[0m             \u001b[0mcheck_batch_axis\u001b[0m\u001b[0;34m=\u001b[0m\u001b[0;32mFalse\u001b[0m\u001b[0;34m,\u001b[0m  \u001b[0;31m# Don't enforce the batch size.\u001b[0m\u001b[0;34m\u001b[0m\u001b[0;34m\u001b[0m\u001b[0m\n\u001b[0;32m--> 579\u001b[0;31m             exception_prefix='input')\n\u001b[0m\u001b[1;32m    580\u001b[0m \u001b[0;34m\u001b[0m\u001b[0m\n\u001b[1;32m    581\u001b[0m         \u001b[0;32mif\u001b[0m \u001b[0my\u001b[0m \u001b[0;32mis\u001b[0m \u001b[0;32mnot\u001b[0m \u001b[0;32mNone\u001b[0m\u001b[0;34m:\u001b[0m\u001b[0;34m\u001b[0m\u001b[0;34m\u001b[0m\u001b[0m\n",
            "\u001b[0;32m/usr/local/lib/python3.6/dist-packages/keras/engine/training_utils.py\u001b[0m in \u001b[0;36mstandardize_input_data\u001b[0;34m(data, names, shapes, check_batch_axis, exception_prefix)\u001b[0m\n\u001b[1;32m    143\u001b[0m                             \u001b[0;34m': expected '\u001b[0m \u001b[0;34m+\u001b[0m \u001b[0mnames\u001b[0m\u001b[0;34m[\u001b[0m\u001b[0mi\u001b[0m\u001b[0;34m]\u001b[0m \u001b[0;34m+\u001b[0m \u001b[0;34m' to have shape '\u001b[0m \u001b[0;34m+\u001b[0m\u001b[0;34m\u001b[0m\u001b[0;34m\u001b[0m\u001b[0m\n\u001b[1;32m    144\u001b[0m                             \u001b[0mstr\u001b[0m\u001b[0;34m(\u001b[0m\u001b[0mshape\u001b[0m\u001b[0;34m)\u001b[0m \u001b[0;34m+\u001b[0m \u001b[0;34m' but got array with shape '\u001b[0m \u001b[0;34m+\u001b[0m\u001b[0;34m\u001b[0m\u001b[0;34m\u001b[0m\u001b[0m\n\u001b[0;32m--> 145\u001b[0;31m                             str(data_shape))\n\u001b[0m\u001b[1;32m    146\u001b[0m     \u001b[0;32mreturn\u001b[0m \u001b[0mdata\u001b[0m\u001b[0;34m\u001b[0m\u001b[0;34m\u001b[0m\u001b[0m\n\u001b[1;32m    147\u001b[0m \u001b[0;34m\u001b[0m\u001b[0m\n",
            "\u001b[0;31mValueError\u001b[0m: Error when checking input: expected global_average_pooling2d_6_input to have shape (1, 1, 2048) but got array with shape (7, 7, 2048)"
          ]
        }
      ]
    },
    {
      "cell_type": "markdown",
      "metadata": {
        "id": "YJTnjactlRUs",
        "colab_type": "text"
      },
      "source": [
        ""
      ]
    },
    {
      "cell_type": "markdown",
      "metadata": {
        "id": "IcAhJJ1Sj38N",
        "colab_type": "text"
      },
      "source": [
        "(IMPLEMENTATION) Load the Model with the Best Validation Loss"
      ]
    },
    {
      "cell_type": "markdown",
      "metadata": {
        "id": "Ryxe65OQZWAB",
        "colab_type": "text"
      },
      "source": [
        ""
      ]
    }
  ]
}